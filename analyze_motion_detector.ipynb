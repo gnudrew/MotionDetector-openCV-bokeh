{
 "cells": [
  {
   "cell_type": "code",
   "execution_count": 25,
   "id": "lovely-protocol",
   "metadata": {},
   "outputs": [
    {
     "name": "stdout",
     "output_type": "stream",
     "text": [
      "                       Enter                       Exit\n",
      "0 2021-03-11 03:14:43.726172 2021-03-11 03:14:43.822173\n",
      "1 2021-03-11 03:14:45.358909 2021-03-11 03:14:45.452898\n",
      "2 2021-03-11 03:14:45.580877 2021-03-11 03:14:48.716459\n",
      "3 2021-03-11 03:14:49.549352 2021-03-11 03:14:51.517570\n",
      "4 2021-03-11 03:14:51.700628 2021-03-11 03:14:52.060161\n",
      "5 2021-03-11 03:14:52.093008 2021-03-11 03:14:52.125006\n"
     ]
    }
   ],
   "source": [
    "import pandas\n",
    "from bokeh.plotting import figure, show, output_file\n",
    "from bokeh.models.tools import HoverTool\n",
    "from bokeh.models.widgets import CheckboxGroup\n",
    "\n",
    "from motion_detector import df #runs motion_detector.py and grabs the df output\n",
    "\n",
    "print(df)"
   ]
  },
  {
   "cell_type": "code",
   "execution_count": 26,
   "id": "designing-church",
   "metadata": {},
   "outputs": [],
   "source": [
    "f = figure(width=500, height=100, x_axis_type=\"datetime\", sizing_mode=\"scale_width\", title=\"Activity Detected\")\n",
    "\n",
    "d1=f.quad(left=df[\"Enter\"], right=df[\"Exit\"], top=1, bottom=0, color=\"blue\")\n",
    "\n",
    "output_file(\"graph.html\")\n",
    "\n",
    "show(f)"
   ]
  },
  {
   "cell_type": "code",
   "execution_count": 18,
   "id": "banner-checklist",
   "metadata": {
    "collapsed": true
   },
   "outputs": [
    {
     "data": {
      "text/plain": [
       "{'lod_threshold': 2000,\n",
       " 'lod_interval': 300,\n",
       " 'y_range': DataRange1d(id='2008', ...),\n",
       " 'x_scale': LinearScale(id='2010', ...),\n",
       " 'reset_policy': 'standard',\n",
       " 'y_scale': LinearScale(id='2012', ...),\n",
       " 'lod_factor': 10,\n",
       " 'background_fill_alpha': 1.0,\n",
       " 'outline_line_width': 1,\n",
       " 'outer_width': 0,\n",
       " 'min_border_bottom': None,\n",
       " 'height_policy': 'auto',\n",
       " 'js_event_callbacks': {},\n",
       " 'x_range': DataRange1d(id='2006', ...),\n",
       " 'title_location': 'above',\n",
       " 'outline_line_cap': 'butt',\n",
       " 'extra_x_ranges': {},\n",
       " 'css_classes': [],\n",
       " 'margin': (0, 0, 0, 0),\n",
       " 'min_border_right': None,\n",
       " 'min_height': None,\n",
       " 'background_fill_color': '#ffffff',\n",
       " 'min_width': None,\n",
       " 'border_fill_alpha': 1.0,\n",
       " 'max_width': None,\n",
       " 'center': [Grid(id='2017', ...), Grid(id='2021', ...)],\n",
       " 'visible': True,\n",
       " 'sizing_mode': 'scale_width',\n",
       " 'outline_line_dash_offset': 0,\n",
       " 'outline_line_dash': [],\n",
       " 'inner_width': 0,\n",
       " 'align': 'start',\n",
       " 'frame_height': None,\n",
       " 'syncable': True,\n",
       " 'match_aspect': False,\n",
       " 'aspect_scale': 1,\n",
       " 'border_fill_color': '#ffffff',\n",
       " 'extra_y_ranges': {},\n",
       " 'inner_height': 0,\n",
       " 'output_backend': 'canvas',\n",
       " 'width_policy': 'auto',\n",
       " 'left': [LinearAxis(id='2018', ...)],\n",
       " 'height': 500,\n",
       " 'hidpi': True,\n",
       " 'toolbar_location': 'right',\n",
       " 'outer_height': 0,\n",
       " 'name': None,\n",
       " 'toolbar_sticky': True,\n",
       " 'title': Title(id='2042', ...),\n",
       " 'right': [],\n",
       " 'below': [DatetimeAxis(id='2014', ...)],\n",
       " 'outline_line_join': 'bevel',\n",
       " 'js_property_callbacks': {},\n",
       " 'max_height': None,\n",
       " 'min_border_top': None,\n",
       " 'toolbar': Toolbar(id='2029', ...),\n",
       " 'min_border': 5,\n",
       " 'outline_line_alpha': 1.0,\n",
       " 'min_border_left': None,\n",
       " 'width': 1000,\n",
       " 'above': [],\n",
       " 'outline_line_color': '#e5e5e5',\n",
       " 'disabled': False,\n",
       " 'frame_width': None,\n",
       " 'background': None,\n",
       " 'subscribed_events': [],\n",
       " 'renderers': [GlyphRenderer(id='2039', ...)],\n",
       " 'lod_timeout': 500,\n",
       " 'tags': [],\n",
       " 'aspect_ratio': None}"
      ]
     },
     "execution_count": 18,
     "metadata": {},
     "output_type": "execute_result"
    }
   ],
   "source": [
    "f.properties_with_values()"
   ]
  },
  {
   "cell_type": "code",
   "execution_count": 14,
   "id": "hazardous-belief",
   "metadata": {
    "collapsed": true
   },
   "outputs": [
    {
     "data": {
      "text/plain": [
       "0   2021-03-11 03:14:43.726172\n",
       "1   2021-03-11 03:14:45.358909\n",
       "2   2021-03-11 03:14:45.580877\n",
       "3   2021-03-11 03:14:49.549352\n",
       "4   2021-03-11 03:14:51.700628\n",
       "5   2021-03-11 03:14:52.093008\n",
       "Name: Enter, dtype: datetime64[ns]"
      ]
     },
     "execution_count": 14,
     "metadata": {},
     "output_type": "execute_result"
    }
   ],
   "source": [
    "df[\"Enter\"]"
   ]
  },
  {
   "cell_type": "code",
   "execution_count": 15,
   "id": "ethical-fundamental",
   "metadata": {
    "collapsed": true
   },
   "outputs": [
    {
     "data": {
      "text/plain": [
       "[Timestamp('2021-03-11 03:14:43.726172'),\n",
       " Timestamp('2021-03-11 03:14:45.358909'),\n",
       " Timestamp('2021-03-11 03:14:45.580877'),\n",
       " Timestamp('2021-03-11 03:14:49.549352'),\n",
       " Timestamp('2021-03-11 03:14:51.700628'),\n",
       " Timestamp('2021-03-11 03:14:52.093008')]"
      ]
     },
     "execution_count": 15,
     "metadata": {},
     "output_type": "execute_result"
    }
   ],
   "source": [
    "list(df[\"Enter\"])"
   ]
  },
  {
   "cell_type": "code",
   "execution_count": 9,
   "id": "desperate-greece",
   "metadata": {},
   "outputs": [],
   "source": [
    "f.quad(left=[1,3], right=[2,4], top=1, bottom=0)\n",
    "show(f)"
   ]
  }
 ],
 "metadata": {
  "kernelspec": {
   "display_name": "Python 3",
   "language": "python",
   "name": "python3"
  },
  "language_info": {
   "codemirror_mode": {
    "name": "ipython",
    "version": 3
   },
   "file_extension": ".py",
   "mimetype": "text/x-python",
   "name": "python",
   "nbconvert_exporter": "python",
   "pygments_lexer": "ipython3",
   "version": "3.9.1"
  }
 },
 "nbformat": 4,
 "nbformat_minor": 5
}
